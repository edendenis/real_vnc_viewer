{
 "cells": [
  {
   "cell_type": "markdown",
   "metadata": {},
   "source": [
    "# Como configurar/instalar/usar o `Real VNC Viewer` no `Linux Ubuntu`\n",
    "\n",
    "## Resumo\n",
    "\n",
    "Neste documento estão contidos os principais comandos e configurações para configurar/instalar/usar o `Real VNC Viewer` no `Linux Ubuntu`.\n",
    "\n",
    "## _Abstract_\n",
    "\n",
    "_This document contains the main commands and settings for configuring/installing/using the `Real VNC Viewer` on `Linux Ubuntu`._\n"
   ]
  },
  {
   "cell_type": "markdown",
   "metadata": {},
   "source": [
    "## Descrição [2]\n",
    "\n",
    "### `Real VNC Viewer`\n",
    "\n",
    "O `Real VNC Viewer` é um cliente de acesso remoto que permite visualizar e controlar desktops de forma remota. Com ele, os usuários podem acessar computadores em diferentes plataformas e sistemas operacionais, como Windows, macOS e Linux, e interagir com eles como se estivessem fisicamente presentes. Ele oferece recursos avançados, como transferência de arquivos, chat e conexões criptografadas para garantir a segurança dos dados durante o acesso remoto. O `Real VNC Viewer` é uma ferramenta essencial para suporte técnico, administração de sistemas e trabalho remoto.\n"
   ]
  },
  {
   "cell_type": "markdown",
   "metadata": {},
   "source": [
    "## 1. Como configurar/instalar/usar o `Real VNC Viewer` no `Linux Ubuntu` [1][3]\n",
    "\n",
    "Para configurar/instalar/usar o `Real VNC Viewer` no `Linux Ubuntu`, você pode seguir estes passos:\n",
    "\n",
    "1. Abra o `Terminal Emulator`. Você pode fazer isso pressionando: `Ctrl + Alt + T`"
   ]
  },
  {
   "cell_type": "markdown",
   "metadata": {},
   "source": [
    "2. Certifique-se de que seu sistema esteja limpo e atualizado.\n",
    "\n",
    "    2.1 Limpar o `cache` do gerenciador de pacotes `apt`. Especificamente, ele remove todos os arquivos de pacotes (`.deb`) baixados pelo `apt` e armazenados em `/var/cache/apt/archives/`. Digite o seguinte comando: `sudo apt clean` \n",
    "    \n",
    "    2.2 Remover pacotes `.deb` antigos ou duplicados do cache local. É útil para liberar espaço, pois remove apenas os pacotes que não podem mais ser baixados (ou seja, versões antigas de pacotes que foram atualizados). Digite o seguinte comando: `sudo apt autoclean`\n",
    "\n",
    "    2.3 Remover pacotes que foram automaticamente instalados para satisfazer as dependências de outros pacotes e que não são mais necessários. Digite o seguinte comando: `sudo apt autoremove -y`\n",
    "\n",
    "    2.4 Buscar as atualizações disponíveis para os pacotes que estão instalados em seu sistema. Digite o seguinte comando e pressione `Enter`: `sudo apt update`\n",
    "\n",
    "    2.5 **Corrigir pacotes quebrados**: Isso atualizará a lista de pacotes disponíveis e tentará corrigir pacotes quebrados ou com dependências ausentes: `sudo apt --fix-broken install`\n",
    "\n",
    "    2.6 Limpar o `cache` do gerenciador de pacotes `apt`. Especificamente, ele remove todos os arquivos de pacotes (`.deb`) baixados pelo `apt` e armazenados em `/var/cache/apt/archives/`. Digite o seguinte comando: `sudo apt clean` \n",
    "    \n",
    "    2.7 Para ver a lista de pacotes a serem atualizados, digite o seguinte comando e pressione `Enter`:  `sudo apt list --upgradable`\n",
    "\n",
    "    2.8 Realmente atualizar os pacotes instalados para as suas versões mais recentes, com base na última vez que você executou `sudo apt update`. Digite o seguinte comando e pressione `Enter`: `sudo apt full-upgrade -y`\n",
    "    "
   ]
  },
  {
   "cell_type": "markdown",
   "metadata": {},
   "source": [
    "Para instalar o `Real VNC Viewer` no `Linux Ubuntu` através do `Terminal Emulator`, siga os passos abaixo. Esses passos assumem que você está utilizando uma versão recente do `Ubuntu`. Caso esteja utilizando uma versão muito antiga ou muito específica, os comandos podem variar ligeiramente.\n",
    "\n",
    "3. **Instale o `Real VNC Viewe`r:** Após atualizar a lista de pacotes, você está pronto para instalar o `Real VNC Viewer`. Execute o comando: `sudo apt install realvnc-vnc-viewer -y`\n",
    "\n",
    "Caso o pacote `realvnc-vnc-viewer` não esteja disponível nos repositórios padrão do `Ubuntu` (o que pode acontecer em versões específicas do `Ubuntu` ou em configurações personalizadas), você pode optar por baixar o instalador diretamente do site oficial do Real VNC e instalar manualmente. Aqui estão os passos para essa abordagem alternativa:\n",
    "\n",
    "1. **Baixe o pacote DEB:** Acesse o site oficial do Real VNC (`https://www.realvnc.com`) e procure pela seção de downloads do `VNC Viewer` para sistemas operacionais `Linux`. Baixe o arquivo .deb apropriado para a sua arquitetura (geralmente amd64 para sistemas modernos).\n",
    "\n",
    "2. **Instale o pacote DEB:** Após o _download_, você pode instalar o pacote usando o comando `dpkg`. Você precisará navegar até o diretório onde o arquivo foi baixado (geralmente `~/Downloads`) e então executar o comando: `sudo dpkg -i nome_do_pacote.deb`\n",
    "\n",
    "    Substitua `nome_do_pacote.deb` pelo nome real do arquivo que você baixou.\n",
    "\n",
    "3. **Resolva dependências faltantes:** É possível que o comando `dpkg` indique a falta de dependências. Se isso acontecer, execute o comando: `sudo apt-get install -f`\n",
    "\n",
    "    Isso irá automaticamente baixar e instalar quaisquer dependências faltantes.\n",
    "\n",
    "Após a instalação, você pode iniciar o `VNC Viewer` através do menu de aplicações ou executando vncviewer no Terminal.\n",
    "\n",
    "Lembre-se que para uma orientação mais específica ou atualizações sobre o processo de instalação, é sempre recomendado consultar a documentação oficial do software."
   ]
  },
  {
   "cell_type": "markdown",
   "metadata": {
    "vscode": {
     "languageId": "plaintext"
    }
   },
   "source": [
    "### 1.1 Código completo para configurar/instalar/usar\n",
    "\n",
    "Para configurar/instalar/usar o `Real VNC Viewer` no `Linux Ubuntu` sem precisar digitar linha por linha, você pode seguir estas etapas:\n",
    "\n",
    "1. Abra o `Terminal Emulator`. Você pode fazer isso pressionando: `Ctrl + Alt + T`\n",
    "\n",
    "2. Digite o seguinte comando e pressione `Enter`:\n",
    "\n",
    "    ```\n",
    "    sudo apt clean                                                            \n",
    "    sudo apt autoclean\n",
    "    sudo apt autoremove -y\n",
    "    sudo apt update\n",
    "    sudo apt --fix-broken install\n",
    "    sudo apt clean\n",
    "    sudo apt list --upgradable\n",
    "    sudo apt full-upgrade -y\n",
    "    sudo apt install realvnc-vnc-viewer -y\n",
    "    ```\n"
   ]
  },
  {
   "cell_type": "markdown",
   "metadata": {
    "vscode": {
     "languageId": "plaintext"
    }
   },
   "source": [
    "## Referências\n",
    "\n",
    "[1] OPENAI. ***Instalar real vnc: ubuntu.*** Disponível em: <https://chat.openai.com/c/c7e78146-272e-4009-97da-0ead9a652575> (texto adaptado). Acessado em: 03/04/2023 17:11.\n",
    "\n",
    "[2] OPENAI. ***Vs code: editor popular.*** Disponível em: <https://chat.openai.com/c/b640a25d-f8e3-4922-8a3b-ed74a2657e42> (texto adaptado). Acessado em: 03/04/2024 17:10.\n"
   ]
  }
 ],
 "metadata": {
  "kernelspec": {
   "display_name": "Python 3",
   "language": "python",
   "name": "python3"
  },
  "language_info": {
   "codemirror_mode": {
    "name": "ipython",
    "version": 3
   },
   "file_extension": ".py",
   "mimetype": "text/x-python",
   "name": "python",
   "nbconvert_exporter": "python",
   "pygments_lexer": "ipython3",
   "version": "3.11.8"
  },
  "orig_nbformat": 4
 },
 "nbformat": 4,
 "nbformat_minor": 2
}
